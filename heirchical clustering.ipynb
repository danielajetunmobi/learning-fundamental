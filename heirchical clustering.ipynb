{
 "cells": [
  {
   "cell_type": "code",
   "execution_count": 5,
   "id": "02ec49d9-e887-43ae-a92b-fcc27af2f1ca",
   "metadata": {},
   "outputs": [],
   "source": [
    "import pandas as pd\n",
    "data=pd.read_csv(\"C:/Users/user/Desktop/data set/zoo3.csv\")\n",
    "df=pd.read_csv(\"C:/Users/user/Desktop/data set/zoo2.csv\")"
   ]
  },
  {
   "cell_type": "code",
   "execution_count": 4,
   "id": "4ddb827b-4f3e-4207-a6ba-0dad2a424080",
   "metadata": {},
   "outputs": [
    {
     "name": "stdout",
     "output_type": "stream",
     "text": [
      "<class 'pandas.core.frame.DataFrame'>\n",
      "RangeIndex: 70 entries, 0 to 69\n",
      "Data columns (total 18 columns):\n",
      " #   Column       Non-Null Count  Dtype \n",
      "---  ------       --------------  ----- \n",
      " 0   animal_name  70 non-null     object\n",
      " 1   hair         70 non-null     int64 \n",
      " 2   feathers     70 non-null     int64 \n",
      " 3   eggs         70 non-null     int64 \n",
      " 4   milk         70 non-null     int64 \n",
      " 5   airborne     70 non-null     int64 \n",
      " 6   aquatic      70 non-null     int64 \n",
      " 7   predator     70 non-null     int64 \n",
      " 8   toothed      70 non-null     int64 \n",
      " 9   backbone     70 non-null     int64 \n",
      " 10  breathes     70 non-null     int64 \n",
      " 11  venomous     70 non-null     int64 \n",
      " 12  fins         70 non-null     int64 \n",
      " 13  legs         70 non-null     int64 \n",
      " 14  tail         70 non-null     int64 \n",
      " 15  domestic     70 non-null     int64 \n",
      " 16  catsize      70 non-null     int64 \n",
      " 17  class_type   70 non-null     int64 \n",
      "dtypes: int64(17), object(1)\n",
      "memory usage: 10.0+ KB\n"
     ]
    }
   ],
   "source": [
    "data.info()"
   ]
  },
  {
   "cell_type": "code",
   "execution_count": 8,
   "id": "ac528dc6-108b-41f8-a996-8e2e3759f0cf",
   "metadata": {},
   "outputs": [],
   "source": [
    "da=pd.concat([data,df])"
   ]
  },
  {
   "cell_type": "code",
   "execution_count": 9,
   "id": "05047b91-cbb2-47e5-94ef-bf312bcf2e2b",
   "metadata": {},
   "outputs": [
    {
     "name": "stdout",
     "output_type": "stream",
     "text": [
      "<class 'pandas.core.frame.DataFrame'>\n",
      "Int64Index: 113 entries, 0 to 42\n",
      "Data columns (total 18 columns):\n",
      " #   Column       Non-Null Count  Dtype \n",
      "---  ------       --------------  ----- \n",
      " 0   animal_name  113 non-null    object\n",
      " 1   hair         113 non-null    int64 \n",
      " 2   feathers     113 non-null    int64 \n",
      " 3   eggs         113 non-null    int64 \n",
      " 4   milk         113 non-null    int64 \n",
      " 5   airborne     113 non-null    int64 \n",
      " 6   aquatic      113 non-null    int64 \n",
      " 7   predator     113 non-null    int64 \n",
      " 8   toothed      113 non-null    int64 \n",
      " 9   backbone     113 non-null    int64 \n",
      " 10  breathes     113 non-null    int64 \n",
      " 11  venomous     113 non-null    int64 \n",
      " 12  fins         113 non-null    int64 \n",
      " 13  legs         113 non-null    int64 \n",
      " 14  tail         113 non-null    int64 \n",
      " 15  domestic     113 non-null    int64 \n",
      " 16  catsize      113 non-null    int64 \n",
      " 17  class_type   113 non-null    int64 \n",
      "dtypes: int64(17), object(1)\n",
      "memory usage: 16.8+ KB\n"
     ]
    }
   ],
   "source": [
    "da.info()"
   ]
  },
  {
   "cell_type": "code",
   "execution_count": 10,
   "id": "24baab61-9623-4568-9b78-ab613aa5934e",
   "metadata": {},
   "outputs": [
    {
     "data": {
      "text/plain": [
       "0"
      ]
     },
     "execution_count": 10,
     "metadata": {},
     "output_type": "execute_result"
    }
   ],
   "source": [
    "da.duplicated().sum()"
   ]
  },
  {
   "cell_type": "code",
   "execution_count": 12,
   "id": "96005a7b-47d6-421d-803c-d856b655229d",
   "metadata": {},
   "outputs": [],
   "source": [
    "import matplotlib.pyplot as plt\n",
    "import seaborn as sns"
   ]
  },
  {
   "cell_type": "code",
   "execution_count": 21,
   "id": "c3b30d92-f3b1-4c9f-8a02-b0583fe075ec",
   "metadata": {},
   "outputs": [
    {
     "data": {
      "text/plain": [
       "2    20\n",
       "3    20\n",
       "1    19\n",
       "6    17\n",
       "4    15\n",
       "5    12\n",
       "7    10\n",
       "Name: class_type, dtype: int64"
      ]
     },
     "execution_count": 21,
     "metadata": {},
     "output_type": "execute_result"
    }
   ],
   "source": [
    "da['class_type'].value_counts()"
   ]
  },
  {
   "cell_type": "code",
   "execution_count": 22,
   "id": "539111ce-c0b9-4105-acf7-562d45bb178e",
   "metadata": {},
   "outputs": [
    {
     "data": {
      "text/plain": [
       "7"
      ]
     },
     "execution_count": 22,
     "metadata": {},
     "output_type": "execute_result"
    }
   ],
   "source": [
    "da['class_type'].nunique()"
   ]
  },
  {
   "cell_type": "code",
   "execution_count": 28,
   "id": "e48a7f80-ad7d-4ecd-940b-6abb589a7980",
   "metadata": {},
   "outputs": [],
   "source": [
    "labels=da['class_type']"
   ]
  },
  {
   "cell_type": "code",
   "execution_count": 29,
   "id": "cd1c9c32-b9da-4822-878d-2bc12e24cc33",
   "metadata": {},
   "outputs": [
    {
     "data": {
      "text/plain": [
       "animal_name    0\n",
       "hair           0\n",
       "feathers       0\n",
       "eggs           0\n",
       "milk           0\n",
       "airborne       0\n",
       "aquatic        0\n",
       "predator       0\n",
       "toothed        0\n",
       "backbone       0\n",
       "breathes       0\n",
       "venomous       0\n",
       "fins           0\n",
       "legs           0\n",
       "tail           0\n",
       "domestic       0\n",
       "catsize        0\n",
       "class_type     0\n",
       "dtype: int64"
      ]
     },
     "execution_count": 29,
     "metadata": {},
     "output_type": "execute_result"
    }
   ],
   "source": [
    "da.isnull().sum()"
   ]
  },
  {
   "cell_type": "code",
   "execution_count": 35,
   "id": "4ce2fbfa-76a0-498c-a09d-85ffd523e19e",
   "metadata": {},
   "outputs": [
    {
     "data": {
      "text/plain": [
       "<AxesSubplot:>"
      ]
     },
     "execution_count": 35,
     "metadata": {},
     "output_type": "execute_result"
    },
    {
     "data": {
      "image/png": "[encoded data removed]",
      "text/plain": [
       "<Figure size 640x480 with 1 Axes>"
      ]
     },
     "metadata": {},
     "output_type": "display_data"
    }
   ],
   "source": [
    "f,ax=plt.subplots()\n",
    "labels.value_counts().plot(ax=ax,kind='bar')"
   ]
  },
  {
   "cell_type": "code",
   "execution_count": 37,
   "id": "1e864de6-0540-4cbb-a3e7-287c1e3a4903",
   "metadata": {},
   "outputs": [
    {
     "data": {
      "text/plain": [
       "(113, 18)"
      ]
     },
     "execution_count": 37,
     "metadata": {},
     "output_type": "execute_result"
    }
   ],
   "source": [
    "da.shape"
   ]
  },
  {
   "cell_type": "code",
   "execution_count": 39,
   "id": "bd0587bc-f70a-44ed-9120-5137c05fdc2e",
   "metadata": {},
   "outputs": [],
   "source": [
    "from sklearn.cluster import AgglomerativeClustering"
   ]
  },
  {
   "cell_type": "code",
   "execution_count": 40,
   "id": "77dd225e-2154-4422-b72f-7985188dbabb",
   "metadata": {},
   "outputs": [],
   "source": [
    "from sklearn.metrics import pairwise_distances"
   ]
  },
  {
   "cell_type": "code",
   "execution_count": 41,
   "id": "80c369b9-e718-4b5f-a59b-37b648b06983",
   "metadata": {},
   "outputs": [
    {
     "data": {
      "text/plain": [
       "<seaborn.matrix.ClusterGrid at 0x1fdf7d34e20>"
      ]
     },
     "execution_count": 41,
     "metadata": {},
     "output_type": "execute_result"
    },
    {
     "data": {
      "image/png": "[encoded data removed]",
      "text/plain": [
       "<Figure size 1000x1000 with 4 Axes>"
      ]
     },
     "metadata": {},
     "output_type": "display_data"
    }
   ],
   "source": [
    "sns.clustermap(da.corr())"
   ]
  },
  {
   "cell_type": "code",
   "execution_count": 47,
   "id": "4b70e835-c0d3-4593-87fd-0bff843860f0",
   "metadata": {},
   "outputs": [],
   "source": [
    "da.drop('animal_name',axis=1,inplace=True)"
   ]
  },
  {
   "cell_type": "code",
   "execution_count": 61,
   "id": "9280b2e9-adc1-48ad-a5d8-0745809088f6",
   "metadata": {},
   "outputs": [],
   "source": [
    "model=AgglomerativeClustering(n_clusters=7,affinity='cosine',linkage='average')"
   ]
  },
  {
   "cell_type": "code",
   "execution_count": 62,
   "id": "2c37d6ce-7654-40d2-ab0a-0ccc34229684",
   "metadata": {},
   "outputs": [
    {
     "data": {
      "text/plain": [
       "AgglomerativeClustering(affinity='cosine', linkage='average', n_clusters=7)"
      ]
     },
     "execution_count": 62,
     "metadata": {},
     "output_type": "execute_result"
    }
   ],
   "source": [
    "model.fit(da)"
   ]
  },
  {
   "cell_type": "code",
   "execution_count": 63,
   "id": "2b416894-b92c-4634-8052-bda766a44ae2",
   "metadata": {},
   "outputs": [
    {
     "data": {
      "text/plain": [
       "array([3, 3, 5, 3, 3, 3, 3, 3, 3, 3, 3, 3, 3, 3, 3, 6, 3, 3, 3, 1, 1, 1,\n",
       "       1, 1, 1, 1, 1, 1, 1, 1, 1, 1, 1, 1, 1, 1, 1, 1, 1, 2, 4, 4, 2, 2,\n",
       "       2, 4, 2, 0, 0, 0, 0, 0, 0, 0, 0, 4, 4, 4, 4, 4, 4, 4, 4, 4, 4, 4,\n",
       "       4, 0, 4, 4, 4, 4, 4, 4, 4, 2, 2, 2, 4, 4, 4, 4, 0, 0, 0, 0, 0, 0,\n",
       "       0, 4, 0, 4, 4, 4, 4, 4, 4, 4, 4, 4, 4, 4, 4, 4, 4, 4, 4, 0, 4, 0,\n",
       "       0, 0, 0], dtype=int64)"
      ]
     },
     "execution_count": 63,
     "metadata": {},
     "output_type": "execute_result"
    }
   ],
   "source": [
    "model.labels_"
   ]
  },
  {
   "cell_type": "code",
   "execution_count": 64,
   "id": "f295aeb9-9bad-445f-841c-9e5cb778376e",
   "metadata": {},
   "outputs": [
    {
     "name": "stdout",
     "output_type": "stream",
     "text": [
      "[0 1 2 3 4 5 6]\n"
     ]
    }
   ],
   "source": [
    "import numpy as np\n",
    "print(np.unique(model.labels_))"
   ]
  },
  {
   "cell_type": "code",
   "execution_count": 65,
   "id": "012d192e-e5e1-4ed5-91a5-311174854bc1",
   "metadata": {},
   "outputs": [],
   "source": [
    "labels=labels-1"
   ]
  },
  {
   "cell_type": "code",
   "execution_count": 66,
   "id": "89d8e517-9e5c-4c57-98f5-0fc545a59883",
   "metadata": {},
   "outputs": [],
   "source": [
    "from sklearn.metrics import mean_squared_error"
   ]
  },
  {
   "cell_type": "code",
   "execution_count": 68,
   "id": "d3f38b0f-8570-4945-bde8-4bf59c26962c",
   "metadata": {},
   "outputs": [
    {
     "name": "stdout",
     "output_type": "stream",
     "text": [
      "2.4204146503535333\n"
     ]
    }
   ],
   "source": [
    "score=mean_squared_error(labels,model.labels_)\n",
    "ab=np.sqrt(score)\n",
    "print(ab)"
   ]
  },
  {
   "cell_type": "code",
   "execution_count": null,
   "id": "33772bdf-4897-4b88-9954-83840aab9cce",
   "metadata": {},
   "outputs": [],
   "source": []
  }
 ],
 "metadata": {
  "kernelspec": {
   "display_name": "Python 3 (ipykernel)",
   "language": "python",
   "name": "python3"
  },
  "language_info": {
   "codemirror_mode": {
    "name": "ipython",
    "version": 3
   },
   "file_extension": ".py",
   "mimetype": "text/x-python",
   "name": "python",
   "nbconvert_exporter": "python",
   "pygments_lexer": "ipython3",
   "version": "3.10.9"
  }
 },
 "nbformat": 4,
 "nbformat_minor": 5
}
