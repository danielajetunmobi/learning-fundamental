{
 "cells": [
  {
   "cell_type": "code",
   "execution_count": 2,
   "id": "3d1b6ee6-ca6d-4b9b-91dd-c55983e685fc",
   "metadata": {},
   "outputs": [],
   "source": [
    "import pandas as pd\n",
    "import numpy as np"
   ]
  },
  {
   "cell_type": "code",
   "execution_count": 3,
   "id": "488346cd-3c0a-4bbb-a736-296ffe96eb1e",
   "metadata": {},
   "outputs": [
    {
     "data": {
      "text/html": [
       "<div>\n",
       "<style scoped>\n",
       "    .dataframe tbody tr th:only-of-type {\n",
       "        vertical-align: middle;\n",
       "    }\n",
       "\n",
       "    .dataframe tbody tr th {\n",
       "        vertical-align: top;\n",
       "    }\n",
       "\n",
       "    .dataframe thead th {\n",
       "        text-align: right;\n",
       "    }\n",
       "</style>\n",
       "<table border=\"1\" class=\"dataframe\">\n",
       "  <thead>\n",
       "    <tr style=\"text-align: right;\">\n",
       "      <th></th>\n",
       "      <th>S/N</th>\n",
       "      <th>Order ID</th>\n",
       "      <th>Order Date</th>\n",
       "      <th>Order Priority</th>\n",
       "      <th>Order Quantity</th>\n",
       "      <th>Sales</th>\n",
       "      <th>Unit Price</th>\n",
       "      <th>Ship Mode</th>\n",
       "      <th>Shipping Cost</th>\n",
       "      <th>Total Cost</th>\n",
       "      <th>Province</th>\n",
       "      <th>Customer Segment</th>\n",
       "      <th>Product Category</th>\n",
       "      <th>Product Sub-Category</th>\n",
       "      <th>Product Container</th>\n",
       "      <th>Ship Date</th>\n",
       "    </tr>\n",
       "  </thead>\n",
       "  <tbody>\n",
       "    <tr>\n",
       "      <th>0</th>\n",
       "      <td>1</td>\n",
       "      <td>13729</td>\n",
       "      <td>2009-01-01</td>\n",
       "      <td>Not Specified</td>\n",
       "      <td>9</td>\n",
       "      <td>872.48</td>\n",
       "      <td>96.942222</td>\n",
       "      <td>Express Air</td>\n",
       "      <td>35.00</td>\n",
       "      <td>907.48</td>\n",
       "      <td>Quebec</td>\n",
       "      <td>Home Office</td>\n",
       "      <td>Office Supplies</td>\n",
       "      <td>Storage &amp; Organization</td>\n",
       "      <td>Large Box</td>\n",
       "      <td>2009-01-03</td>\n",
       "    </tr>\n",
       "    <tr>\n",
       "      <th>1</th>\n",
       "      <td>2</td>\n",
       "      <td>28774</td>\n",
       "      <td>2009-01-01</td>\n",
       "      <td>High</td>\n",
       "      <td>32</td>\n",
       "      <td>180.36</td>\n",
       "      <td>5.636250</td>\n",
       "      <td>Regular Air</td>\n",
       "      <td>4.69</td>\n",
       "      <td>185.05</td>\n",
       "      <td>Ontario</td>\n",
       "      <td>Small Business</td>\n",
       "      <td>Office Supplies</td>\n",
       "      <td>Storage &amp; Organization</td>\n",
       "      <td>Small Box</td>\n",
       "      <td>2009-01-02</td>\n",
       "    </tr>\n",
       "    <tr>\n",
       "      <th>2</th>\n",
       "      <td>3</td>\n",
       "      <td>37537</td>\n",
       "      <td>2009-01-02</td>\n",
       "      <td>Low</td>\n",
       "      <td>32</td>\n",
       "      <td>4902.38</td>\n",
       "      <td>153.199375</td>\n",
       "      <td>Regular Air</td>\n",
       "      <td>7.07</td>\n",
       "      <td>4909.45</td>\n",
       "      <td>British Columbia</td>\n",
       "      <td>Corporate</td>\n",
       "      <td>Office Supplies</td>\n",
       "      <td>Storage &amp; Organization</td>\n",
       "      <td>Small Box</td>\n",
       "      <td>2009-01-09</td>\n",
       "    </tr>\n",
       "    <tr>\n",
       "      <th>3</th>\n",
       "      <td>4</td>\n",
       "      <td>37537</td>\n",
       "      <td>2009-01-02</td>\n",
       "      <td>Low</td>\n",
       "      <td>43</td>\n",
       "      <td>4083.19</td>\n",
       "      <td>94.957907</td>\n",
       "      <td>Delivery Truck</td>\n",
       "      <td>45.00</td>\n",
       "      <td>4128.19</td>\n",
       "      <td>British Columbia</td>\n",
       "      <td>Corporate</td>\n",
       "      <td>Furniture</td>\n",
       "      <td>Chairs &amp; Chairmats</td>\n",
       "      <td>Jumbo Drum</td>\n",
       "      <td>2009-01-04</td>\n",
       "    </tr>\n",
       "    <tr>\n",
       "      <th>4</th>\n",
       "      <td>5</td>\n",
       "      <td>37537</td>\n",
       "      <td>2009-01-02</td>\n",
       "      <td>Low</td>\n",
       "      <td>4</td>\n",
       "      <td>1239.06</td>\n",
       "      <td>309.765000</td>\n",
       "      <td>Delivery Truck</td>\n",
       "      <td>48.80</td>\n",
       "      <td>1287.86</td>\n",
       "      <td>British Columbia</td>\n",
       "      <td>Corporate</td>\n",
       "      <td>Furniture</td>\n",
       "      <td>Chairs &amp; Chairmats</td>\n",
       "      <td>Jumbo Drum</td>\n",
       "      <td>2009-01-02</td>\n",
       "    </tr>\n",
       "  </tbody>\n",
       "</table>\n",
       "</div>"
      ],
      "text/plain": [
       "   S/N  Order ID Order Date Order Priority  Order Quantity    Sales  \\\n",
       "0    1     13729 2009-01-01  Not Specified               9   872.48   \n",
       "1    2     28774 2009-01-01           High              32   180.36   \n",
       "2    3     37537 2009-01-02            Low              32  4902.38   \n",
       "3    4     37537 2009-01-02            Low              43  4083.19   \n",
       "4    5     37537 2009-01-02            Low               4  1239.06   \n",
       "\n",
       "   Unit Price       Ship Mode  Shipping Cost  Total Cost          Province  \\\n",
       "0   96.942222     Express Air          35.00      907.48            Quebec   \n",
       "1    5.636250     Regular Air           4.69      185.05           Ontario   \n",
       "2  153.199375     Regular Air           7.07     4909.45  British Columbia   \n",
       "3   94.957907  Delivery Truck          45.00     4128.19  British Columbia   \n",
       "4  309.765000  Delivery Truck          48.80     1287.86  British Columbia   \n",
       "\n",
       "  Customer Segment Product Category    Product Sub-Category Product Container  \\\n",
       "0      Home Office  Office Supplies  Storage & Organization         Large Box   \n",
       "1   Small Business  Office Supplies  Storage & Organization         Small Box   \n",
       "2        Corporate  Office Supplies  Storage & Organization         Small Box   \n",
       "3        Corporate        Furniture      Chairs & Chairmats        Jumbo Drum   \n",
       "4        Corporate        Furniture      Chairs & Chairmats        Jumbo Drum   \n",
       "\n",
       "   Ship Date  \n",
       "0 2009-01-03  \n",
       "1 2009-01-02  \n",
       "2 2009-01-09  \n",
       "3 2009-01-04  \n",
       "4 2009-01-02  "
      ]
     },
     "execution_count": 3,
     "metadata": {},
     "output_type": "execute_result"
    }
   ],
   "source": [
    "dataset=pd.read_excel('C:/Users/user/Desktop/data set/Store-Sales-Dataset.xlsx')\n",
    "dataset.head()"
   ]
  },
  {
   "cell_type": "code",
   "execution_count": 4,
   "id": "63b653cb-b3ab-4766-9339-ae5b23a6a57f",
   "metadata": {},
   "outputs": [
    {
     "name": "stdout",
     "output_type": "stream",
     "text": [
      "<class 'pandas.core.frame.DataFrame'>\n",
      "RangeIndex: 8399 entries, 0 to 8398\n",
      "Data columns (total 16 columns):\n",
      " #   Column                Non-Null Count  Dtype         \n",
      "---  ------                --------------  -----         \n",
      " 0   S/N                   8399 non-null   int64         \n",
      " 1   Order ID              8399 non-null   int64         \n",
      " 2   Order Date            8399 non-null   datetime64[ns]\n",
      " 3   Order Priority        8399 non-null   object        \n",
      " 4   Order Quantity        8399 non-null   int64         \n",
      " 5   Sales                 8399 non-null   float64       \n",
      " 6   Unit Price            8399 non-null   float64       \n",
      " 7   Ship Mode             8399 non-null   object        \n",
      " 8   Shipping Cost         8399 non-null   float64       \n",
      " 9   Total Cost            8399 non-null   float64       \n",
      " 10  Province              8399 non-null   object        \n",
      " 11  Customer Segment      8399 non-null   object        \n",
      " 12  Product Category      8399 non-null   object        \n",
      " 13  Product Sub-Category  8399 non-null   object        \n",
      " 14  Product Container     8399 non-null   object        \n",
      " 15  Ship Date             8399 non-null   datetime64[ns]\n",
      "dtypes: datetime64[ns](2), float64(4), int64(3), object(7)\n",
      "memory usage: 1.0+ MB\n"
     ]
    }
   ],
   "source": [
    "dataset.info()"
   ]
  },
  {
   "cell_type": "code",
   "execution_count": 5,
   "id": "44bdd552-dc54-45c7-acba-de66a5c256e0",
   "metadata": {},
   "outputs": [],
   "source": [
    "x= dataset[['Shipping Cost','Total Cost']]"
   ]
  },
  {
   "cell_type": "code",
   "execution_count": 6,
   "id": "c8c07faa-a751-47ec-a809-28098b1eabda",
   "metadata": {},
   "outputs": [],
   "source": [
    "from sklearn.cluster import DBSCAN"
   ]
  },
  {
   "cell_type": "code",
   "execution_count": 7,
   "id": "326d894d-89ce-40da-8faa-358fa7373191",
   "metadata": {},
   "outputs": [],
   "source": [
    "db=DBSCAN(eps=3,min_samples=10)"
   ]
  },
  {
   "cell_type": "code",
   "execution_count": 8,
   "id": "bf38ddf9-b113-4060-8042-f4c20a487c5d",
   "metadata": {},
   "outputs": [],
   "source": [
    "model= db.fit(x)"
   ]
  },
  {
   "cell_type": "code",
   "execution_count": 9,
   "id": "fd4e8a4c-71bc-4496-b8eb-24c02fabc273",
   "metadata": {},
   "outputs": [],
   "source": [
    "labels=model.labels_"
   ]
  },
  {
   "cell_type": "code",
   "execution_count": 10,
   "id": "7176a9d5-9b8b-47e8-8558-4849a166e8c8",
   "metadata": {},
   "outputs": [],
   "source": [
    "samples_cores=np.zeros_like(labels,dtype=bool)"
   ]
  },
  {
   "cell_type": "code",
   "execution_count": 11,
   "id": "7e6396cd-1e27-4bd2-ae3a-65dc5590024d",
   "metadata": {},
   "outputs": [
    {
     "data": {
      "text/plain": [
       "array([False, False, False, ..., False, False, False])"
      ]
     },
     "execution_count": 11,
     "metadata": {},
     "output_type": "execute_result"
    }
   ],
   "source": [
    "samples_cores"
   ]
  },
  {
   "cell_type": "code",
   "execution_count": 12,
   "id": "6c82ab48-3cf5-4050-ad9a-db433f890cb2",
   "metadata": {},
   "outputs": [
    {
     "data": {
      "text/plain": [
       "array([   1,    6,    7, ..., 8395, 8397, 8398], dtype=int64)"
      ]
     },
     "execution_count": 12,
     "metadata": {},
     "output_type": "execute_result"
    }
   ],
   "source": [
    "db.core_sample_indices_"
   ]
  },
  {
   "cell_type": "code",
   "execution_count": 13,
   "id": "2b9b9b38-f8f8-40c4-a4d5-876a80cab304",
   "metadata": {},
   "outputs": [],
   "source": [
    "n_cluster=len(set(labels))-(1 if -1 in labels else 0)"
   ]
  },
  {
   "cell_type": "code",
   "execution_count": 14,
   "id": "28b266d8-d16a-4444-96ec-28b63aaaa41a",
   "metadata": {},
   "outputs": [],
   "source": [
    "from sklearn import metrics"
   ]
  },
  {
   "cell_type": "code",
   "execution_count": 15,
   "id": "5d8c6ead-8f3e-409c-912c-8265aa2fb4b8",
   "metadata": {},
   "outputs": [
    {
     "name": "stdout",
     "output_type": "stream",
     "text": [
      "-0.02172613864485228\n"
     ]
    }
   ],
   "source": [
    "print(metrics.silhouette_score(x,labels))"
   ]
  },
  {
   "cell_type": "code",
   "execution_count": 16,
   "id": "eb5a7775-39b5-450f-aee3-d40fc114b5e4",
   "metadata": {},
   "outputs": [
    {
     "data": {
      "text/plain": [
       "array([-1,  0, -1, ..., -1,  0,  0], dtype=int64)"
      ]
     },
     "execution_count": 16,
     "metadata": {},
     "output_type": "execute_result"
    }
   ],
   "source": [
    "model.labels_"
   ]
  },
  {
   "cell_type": "code",
   "execution_count": null,
   "id": "17b3557d-773f-43d4-8b8c-5b433f3f1135",
   "metadata": {},
   "outputs": [],
   "source": []
  }
 ],
 "metadata": {
  "kernelspec": {
   "display_name": "Python 3 (ipykernel)",
   "language": "python",
   "name": "python3"
  },
  "language_info": {
   "codemirror_mode": {
    "name": "ipython",
    "version": 3
   },
   "file_extension": ".py",
   "mimetype": "text/x-python",
   "name": "python",
   "nbconvert_exporter": "python",
   "pygments_lexer": "ipython3",
   "version": "3.10.9"
  }
 },
 "nbformat": 4,
 "nbformat_minor": 5
}
